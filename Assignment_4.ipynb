{
  "nbformat": 4,
  "nbformat_minor": 0,
  "metadata": {
    "colab": {
      "provenance": [],
      "authorship_tag": "ABX9TyP7p2krDVC2n+e97DU4tTqA",
      "include_colab_link": true
    },
    "kernelspec": {
      "name": "python3",
      "display_name": "Python 3"
    },
    "language_info": {
      "name": "python"
    }
  },
  "cells": [
    {
      "cell_type": "markdown",
      "metadata": {
        "id": "view-in-github",
        "colab_type": "text"
      },
      "source": [
        "<a href=\"https://colab.research.google.com/github/Sweetzs/Assignment-4/blob/main/Assignment_4.ipynb\" target=\"_parent\"><img src=\"https://colab.research.google.com/assets/colab-badge.svg\" alt=\"Open In Colab\"/></a>"
      ]
    },
    {
      "cell_type": "markdown",
      "source": [
        "Joining two list"
      ],
      "metadata": {
        "id": "a-U8u773LERv"
      }
    },
    {
      "cell_type": "code",
      "execution_count": 3,
      "metadata": {
        "colab": {
          "base_uri": "https://localhost:8080/"
        },
        "id": "C6MzvkQhKUtd",
        "outputId": "d2e00f27-3387-415b-cd2a-379c2200778c"
      },
      "outputs": [
        {
          "output_type": "stream",
          "name": "stdout",
          "text": [
            "Joined list using concatenation: [1, 2, 3, 4, 5, 6, 7, 8]\n"
          ]
        }
      ],
      "source": [
        "list1 = [1, 2, 3, 4]\n",
        "list2 = [5, 6, 7, 8]\n",
        "list1.extend(list2)\n",
        "print(\"Joined list using concatenation:\", list1)"
      ]
    },
    {
      "cell_type": "markdown",
      "source": [
        "Even numbers"
      ],
      "metadata": {
        "id": "4Q9D7utyLWZH"
      }
    },
    {
      "cell_type": "code",
      "source": [
        "user_input = input(\"Enter a number: \")\n",
        "try:\n",
        "    user_number = int(user_input)\n",
        "    if user_number % 2 == 0:\n",
        "        print(f\"{user_number} is an even number.\")\n",
        "    else:\n",
        "        print(f\"{user_number} is an odd number.\")\n",
        "except ValueError:\n",
        "    print(\"Invalid input. Please enter a valid number.\")"
      ],
      "metadata": {
        "colab": {
          "base_uri": "https://localhost:8080/"
        },
        "id": "L1ttPuCeLUyc",
        "outputId": "bdf3b7e8-d26b-44ba-ec37-2614d0af6869"
      },
      "execution_count": 4,
      "outputs": [
        {
          "output_type": "stream",
          "name": "stdout",
          "text": [
            "Enter a number: 6\n",
            "6 is an even number.\n"
          ]
        }
      ]
    },
    {
      "cell_type": "markdown",
      "source": [
        "Dictionary"
      ],
      "metadata": {
        "id": "8rXZ_qRdL0zn"
      }
    },
    {
      "cell_type": "code",
      "source": [
        "student_details= {\n",
        "    \"Bob\": [101, \"CSE\"],\n",
        "    \"Cristian\": [102, \"ECE\"],\n",
        "    \"France\": [105, \"IT\"]\n",
        "}\n",
        "print(\"Bob:\",student_details[\"Bob\"])\n",
        "print(\"Cristian:\",student_details[\"Cristian\"])\n",
        "print(\"France:\",student_details[\"France\"])"
      ],
      "metadata": {
        "colab": {
          "base_uri": "https://localhost:8080/"
        },
        "id": "vKx_lhqJL9mb",
        "outputId": "7ab9dbaf-6c2c-43f6-a3d7-3653f0d9f4c1"
      },
      "execution_count": 8,
      "outputs": [
        {
          "output_type": "stream",
          "name": "stdout",
          "text": [
            "Bob: [101, 'CSE']\n",
            "Cristian: [102, 'ECE']\n",
            "France: [105, 'IT']\n"
          ]
        }
      ]
    },
    {
      "cell_type": "markdown",
      "source": [
        "Function to find Odd Numbers"
      ],
      "metadata": {
        "id": "2AVqVY2nMYcP"
      }
    },
    {
      "cell_type": "code",
      "source": [
        "def find_odd_numbers():\n",
        "    odd_numbers = []\n",
        "    while True:\n",
        "        user_input = input(\"Enter a number (or 'q' to quit): \")\n",
        "\n",
        "        if user_input == 'q':\n",
        "            break\n",
        "\n",
        "        try:\n",
        "            user_number = int(user_input)\n",
        "            if user_number % 2 != 0:\n",
        "                odd_numbers.append(user_number)\n",
        "                print(f\"{user_number} is an odd number.\")\n",
        "            else:\n",
        "                print(f\"{user_number} is even number.\")\n",
        "        except ValueError:\n",
        "            print(\"Invalid input. Please enter a valid number.\")\n",
        "\n",
        "    return odd_numbers\n",
        "odd_numbers_list = find_odd_numbers()\n",
        "print(\"Odd numbers entered by the user:\", odd_numbers_list)\n"
      ],
      "metadata": {
        "colab": {
          "base_uri": "https://localhost:8080/"
        },
        "id": "zZllvpQ_MmpF",
        "outputId": "51b9406b-5422-45c5-db3f-1b3f08859299"
      },
      "execution_count": 12,
      "outputs": [
        {
          "output_type": "stream",
          "name": "stdout",
          "text": [
            "Enter a number (or 'q' to quit): 6\n",
            "6 is even number.\n",
            "Enter a number (or 'q' to quit): 7\n",
            "7 is an odd number.\n",
            "Enter a number (or 'q' to quit): q\n",
            "Odd numbers entered by the user: [7]\n"
          ]
        }
      ]
    },
    {
      "cell_type": "markdown",
      "source": [
        "Sum the numbers in a list"
      ],
      "metadata": {
        "id": "W-z5tkGIP5JG"
      }
    },
    {
      "cell_type": "code",
      "source": [
        "def sum_numbers_in_list(user_input):\n",
        "    try:\n",
        "        numbers = [int(num) for num in user_input.split()]\n",
        "        total = sum(numbers)\n",
        "\n",
        "        return total\n",
        "    except ValueError:\n",
        "        return \"Invalid input. Please enter a list of numbers separated by spaces.\"\n",
        "user_input = input(\"Enter a list of numbers separated by spaces: \")\n",
        "result = sum_numbers_in_list(user_input)\n",
        "print(\"Sum of the numbers:\", result)"
      ],
      "metadata": {
        "colab": {
          "base_uri": "https://localhost:8080/"
        },
        "id": "RrRu-JzWP8cH",
        "outputId": "a069b3b2-d539-4a4c-b162-a09199c07ce2"
      },
      "execution_count": null,
      "outputs": [
        {
          "output_type": "stream",
          "name": "stdout",
          "text": [
            "Enter a list of numbers separated by spaces: 10 20 30 40\n",
            "Sum of the numbers: 100\n"
          ]
        }
      ]
    }
  ]
}